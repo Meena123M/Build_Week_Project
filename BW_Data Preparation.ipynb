{
 "cells": [
  {
   "cell_type": "markdown",
   "id": "b53e43b8-f6f5-4313-84b6-b403669b6068",
   "metadata": {},
   "source": [
    "## Step1:Data collection from Kaggle\n",
    "collected the multiple data from kaggle for analysis\n",
    "\n",
    "1.https://www.kaggle.com/datasets/lakshmi25npathi/online-retail-dataset?select=online_retail_II.xlsx\n",
    "\n",
    "2.https://www.kaggle.com/datasets/saadharoon27/superstore-dataset\n",
    "\n",
    "3.https://www.kaggle.com/datasets/fatihilhan/global-superstore-dataset"
   ]
  },
  {
   "cell_type": "markdown",
   "id": "4be77cc3-e8ba-4281-b5b2-9323fc515233",
   "metadata": {},
   "source": [
    "## Step2:Importing the necessary library"
   ]
  },
  {
   "cell_type": "code",
   "execution_count": 85,
   "id": "14cf369c-9d1f-4339-9e14-acce3383ffa0",
   "metadata": {},
   "outputs": [],
   "source": [
    "import pandas as pd"
   ]
  },
  {
   "cell_type": "markdown",
   "id": "bc0e2d5f-920f-491e-85d2-ca15cb266706",
   "metadata": {},
   "source": [
    "## Step3:Data preprocessing"
   ]
  },
  {
   "cell_type": "code",
   "execution_count": 86,
   "id": "d26cbc99-3016-4abd-8df5-1037882c0b81",
   "metadata": {
    "scrolled": true
   },
   "outputs": [
    {
     "data": {
      "text/html": [
       "<div>\n",
       "<style scoped>\n",
       "    .dataframe tbody tr th:only-of-type {\n",
       "        vertical-align: middle;\n",
       "    }\n",
       "\n",
       "    .dataframe tbody tr th {\n",
       "        vertical-align: top;\n",
       "    }\n",
       "\n",
       "    .dataframe thead th {\n",
       "        text-align: right;\n",
       "    }\n",
       "</style>\n",
       "<table border=\"1\" class=\"dataframe\">\n",
       "  <thead>\n",
       "    <tr style=\"text-align: right;\">\n",
       "      <th></th>\n",
       "      <th>Row ID+O6G3A1:R6</th>\n",
       "      <th>Order ID</th>\n",
       "      <th>Order Date</th>\n",
       "      <th>Ship Date</th>\n",
       "      <th>Ship Mode</th>\n",
       "      <th>Customer ID</th>\n",
       "      <th>Customer Name</th>\n",
       "      <th>Segment</th>\n",
       "      <th>Country</th>\n",
       "      <th>City</th>\n",
       "      <th>...</th>\n",
       "      <th>Category</th>\n",
       "      <th>Sub-Category</th>\n",
       "      <th>Product Name</th>\n",
       "      <th>Sales</th>\n",
       "      <th>Quantity</th>\n",
       "      <th>Profit</th>\n",
       "      <th>Returns</th>\n",
       "      <th>Payment Mode</th>\n",
       "      <th>ind1</th>\n",
       "      <th>ind2</th>\n",
       "    </tr>\n",
       "  </thead>\n",
       "  <tbody>\n",
       "    <tr>\n",
       "      <th>0</th>\n",
       "      <td>4918</td>\n",
       "      <td>CA-2019-160304</td>\n",
       "      <td>01-01-2019</td>\n",
       "      <td>07-01-2019</td>\n",
       "      <td>Standard Class</td>\n",
       "      <td>BM-11575</td>\n",
       "      <td>Brendan Murry</td>\n",
       "      <td>Corporate</td>\n",
       "      <td>United States</td>\n",
       "      <td>Gaithersburg</td>\n",
       "      <td>...</td>\n",
       "      <td>Furniture</td>\n",
       "      <td>Bookcases</td>\n",
       "      <td>Bush Westfield Collection Bookcases, Medium Ch...</td>\n",
       "      <td>73.94</td>\n",
       "      <td>1</td>\n",
       "      <td>28.2668</td>\n",
       "      <td>NaN</td>\n",
       "      <td>Online</td>\n",
       "      <td>NaN</td>\n",
       "      <td>NaN</td>\n",
       "    </tr>\n",
       "    <tr>\n",
       "      <th>1</th>\n",
       "      <td>4919</td>\n",
       "      <td>CA-2019-160304</td>\n",
       "      <td>02-01-2019</td>\n",
       "      <td>07-01-2019</td>\n",
       "      <td>Standard Class</td>\n",
       "      <td>BM-11575</td>\n",
       "      <td>Brendan Murry</td>\n",
       "      <td>Corporate</td>\n",
       "      <td>United States</td>\n",
       "      <td>Gaithersburg</td>\n",
       "      <td>...</td>\n",
       "      <td>Furniture</td>\n",
       "      <td>Bookcases</td>\n",
       "      <td>Bush Westfield Collection Bookcases, Medium Ch...</td>\n",
       "      <td>173.94</td>\n",
       "      <td>3</td>\n",
       "      <td>38.2668</td>\n",
       "      <td>NaN</td>\n",
       "      <td>Online</td>\n",
       "      <td>NaN</td>\n",
       "      <td>NaN</td>\n",
       "    </tr>\n",
       "  </tbody>\n",
       "</table>\n",
       "<p>2 rows × 23 columns</p>\n",
       "</div>"
      ],
      "text/plain": [
       "   Row ID+O6G3A1:R6        Order ID  Order Date   Ship Date       Ship Mode  \\\n",
       "0              4918  CA-2019-160304  01-01-2019  07-01-2019  Standard Class   \n",
       "1              4919  CA-2019-160304  02-01-2019  07-01-2019  Standard Class   \n",
       "\n",
       "  Customer ID  Customer Name    Segment        Country          City  ...  \\\n",
       "0    BM-11575  Brendan Murry  Corporate  United States  Gaithersburg  ...   \n",
       "1    BM-11575  Brendan Murry  Corporate  United States  Gaithersburg  ...   \n",
       "\n",
       "    Category Sub-Category                                       Product Name  \\\n",
       "0  Furniture    Bookcases  Bush Westfield Collection Bookcases, Medium Ch...   \n",
       "1  Furniture    Bookcases  Bush Westfield Collection Bookcases, Medium Ch...   \n",
       "\n",
       "    Sales Quantity   Profit  Returns  Payment Mode  ind1  ind2  \n",
       "0   73.94        1  28.2668      NaN        Online   NaN   NaN  \n",
       "1  173.94        3  38.2668      NaN        Online   NaN   NaN  \n",
       "\n",
       "[2 rows x 23 columns]"
      ]
     },
     "execution_count": 86,
     "metadata": {},
     "output_type": "execute_result"
    }
   ],
   "source": [
    "df1=pd.read_csv('SuperStore_Sales_Dataset.csv')\n",
    "df1.head(2)"
   ]
  },
  {
   "cell_type": "code",
   "execution_count": 87,
   "id": "44bfc7b4-47fb-47b8-a004-5af97fbf5362",
   "metadata": {},
   "outputs": [
    {
     "data": {
      "text/html": [
       "<div>\n",
       "<style scoped>\n",
       "    .dataframe tbody tr th:only-of-type {\n",
       "        vertical-align: middle;\n",
       "    }\n",
       "\n",
       "    .dataframe tbody tr th {\n",
       "        vertical-align: top;\n",
       "    }\n",
       "\n",
       "    .dataframe thead th {\n",
       "        text-align: right;\n",
       "    }\n",
       "</style>\n",
       "<table border=\"1\" class=\"dataframe\">\n",
       "  <thead>\n",
       "    <tr style=\"text-align: right;\">\n",
       "      <th></th>\n",
       "      <th>Category</th>\n",
       "      <th>City</th>\n",
       "      <th>Country</th>\n",
       "      <th>Customer.ID</th>\n",
       "      <th>Customer.Name</th>\n",
       "      <th>Discount</th>\n",
       "      <th>Market</th>\n",
       "      <th>记录数</th>\n",
       "      <th>Order.Date</th>\n",
       "      <th>Order.ID</th>\n",
       "      <th>...</th>\n",
       "      <th>Sales</th>\n",
       "      <th>Segment</th>\n",
       "      <th>Ship.Date</th>\n",
       "      <th>Ship.Mode</th>\n",
       "      <th>Shipping.Cost</th>\n",
       "      <th>State</th>\n",
       "      <th>Sub.Category</th>\n",
       "      <th>Year</th>\n",
       "      <th>Market2</th>\n",
       "      <th>weeknum</th>\n",
       "    </tr>\n",
       "  </thead>\n",
       "  <tbody>\n",
       "    <tr>\n",
       "      <th>0</th>\n",
       "      <td>Office Supplies</td>\n",
       "      <td>Los Angeles</td>\n",
       "      <td>United States</td>\n",
       "      <td>LS-172304</td>\n",
       "      <td>Lycoris Saunders</td>\n",
       "      <td>0.0</td>\n",
       "      <td>US</td>\n",
       "      <td>1</td>\n",
       "      <td>2011-01-07 00:00:00.000</td>\n",
       "      <td>CA-2011-130813</td>\n",
       "      <td>...</td>\n",
       "      <td>19</td>\n",
       "      <td>Consumer</td>\n",
       "      <td>2011-01-09 00:00:00.000</td>\n",
       "      <td>Second Class</td>\n",
       "      <td>4.37</td>\n",
       "      <td>California</td>\n",
       "      <td>Paper</td>\n",
       "      <td>2011</td>\n",
       "      <td>North America</td>\n",
       "      <td>2</td>\n",
       "    </tr>\n",
       "    <tr>\n",
       "      <th>1</th>\n",
       "      <td>Office Supplies</td>\n",
       "      <td>Los Angeles</td>\n",
       "      <td>United States</td>\n",
       "      <td>MV-174854</td>\n",
       "      <td>Mark Van Huff</td>\n",
       "      <td>0.0</td>\n",
       "      <td>US</td>\n",
       "      <td>1</td>\n",
       "      <td>2011-01-21 00:00:00.000</td>\n",
       "      <td>CA-2011-148614</td>\n",
       "      <td>...</td>\n",
       "      <td>19</td>\n",
       "      <td>Consumer</td>\n",
       "      <td>2011-01-26 00:00:00.000</td>\n",
       "      <td>Standard Class</td>\n",
       "      <td>0.94</td>\n",
       "      <td>California</td>\n",
       "      <td>Paper</td>\n",
       "      <td>2011</td>\n",
       "      <td>North America</td>\n",
       "      <td>4</td>\n",
       "    </tr>\n",
       "  </tbody>\n",
       "</table>\n",
       "<p>2 rows × 27 columns</p>\n",
       "</div>"
      ],
      "text/plain": [
       "          Category         City        Country Customer.ID     Customer.Name  \\\n",
       "0  Office Supplies  Los Angeles  United States   LS-172304  Lycoris Saunders   \n",
       "1  Office Supplies  Los Angeles  United States   MV-174854     Mark Van Huff   \n",
       "\n",
       "   Discount Market  记录数               Order.Date        Order.ID  ... Sales  \\\n",
       "0       0.0     US    1  2011-01-07 00:00:00.000  CA-2011-130813  ...    19   \n",
       "1       0.0     US    1  2011-01-21 00:00:00.000  CA-2011-148614  ...    19   \n",
       "\n",
       "    Segment                Ship.Date       Ship.Mode  Shipping.Cost  \\\n",
       "0  Consumer  2011-01-09 00:00:00.000    Second Class           4.37   \n",
       "1  Consumer  2011-01-26 00:00:00.000  Standard Class           0.94   \n",
       "\n",
       "        State  Sub.Category  Year        Market2 weeknum  \n",
       "0  California         Paper  2011  North America       2  \n",
       "1  California         Paper  2011  North America       4  \n",
       "\n",
       "[2 rows x 27 columns]"
      ]
     },
     "execution_count": 87,
     "metadata": {},
     "output_type": "execute_result"
    }
   ],
   "source": [
    "df2=pd.read_csv('superstore.csv')\n",
    "df2.head(2)"
   ]
  },
  {
   "cell_type": "code",
   "execution_count": 88,
   "id": "a5b0dd7f-8240-4ba6-8c0f-12fd92922e6a",
   "metadata": {},
   "outputs": [
    {
     "data": {
      "text/html": [
       "<div>\n",
       "<style scoped>\n",
       "    .dataframe tbody tr th:only-of-type {\n",
       "        vertical-align: middle;\n",
       "    }\n",
       "\n",
       "    .dataframe tbody tr th {\n",
       "        vertical-align: top;\n",
       "    }\n",
       "\n",
       "    .dataframe thead th {\n",
       "        text-align: right;\n",
       "    }\n",
       "</style>\n",
       "<table border=\"1\" class=\"dataframe\">\n",
       "  <thead>\n",
       "    <tr style=\"text-align: right;\">\n",
       "      <th></th>\n",
       "      <th>Invoice</th>\n",
       "      <th>StockCode</th>\n",
       "      <th>Description</th>\n",
       "      <th>Quantity</th>\n",
       "      <th>InvoiceDate</th>\n",
       "      <th>Price</th>\n",
       "      <th>Customer ID</th>\n",
       "      <th>Country</th>\n",
       "    </tr>\n",
       "  </thead>\n",
       "  <tbody>\n",
       "    <tr>\n",
       "      <th>0</th>\n",
       "      <td>489434</td>\n",
       "      <td>85048</td>\n",
       "      <td>15CM CHRISTMAS GLASS BALL 20 LIGHTS</td>\n",
       "      <td>12</td>\n",
       "      <td>01-12-09 7:45</td>\n",
       "      <td>6.95</td>\n",
       "      <td>13085.0</td>\n",
       "      <td>United Kingdom</td>\n",
       "    </tr>\n",
       "    <tr>\n",
       "      <th>1</th>\n",
       "      <td>489434</td>\n",
       "      <td>79323P</td>\n",
       "      <td>PINK CHERRY LIGHTS</td>\n",
       "      <td>12</td>\n",
       "      <td>01-12-09 7:45</td>\n",
       "      <td>6.75</td>\n",
       "      <td>13085.0</td>\n",
       "      <td>United Kingdom</td>\n",
       "    </tr>\n",
       "  </tbody>\n",
       "</table>\n",
       "</div>"
      ],
      "text/plain": [
       "  Invoice StockCode                          Description  Quantity  \\\n",
       "0  489434     85048  15CM CHRISTMAS GLASS BALL 20 LIGHTS        12   \n",
       "1  489434    79323P                   PINK CHERRY LIGHTS        12   \n",
       "\n",
       "     InvoiceDate  Price  Customer ID         Country  \n",
       "0  01-12-09 7:45   6.95      13085.0  United Kingdom  \n",
       "1  01-12-09 7:45   6.75      13085.0  United Kingdom  "
      ]
     },
     "execution_count": 88,
     "metadata": {},
     "output_type": "execute_result"
    }
   ],
   "source": [
    "df3=pd.read_csv('online_retail_II.csv', encoding='ISO-8859-1')\n",
    "df3.head(2)"
   ]
  },
  {
   "cell_type": "code",
   "execution_count": 13,
   "id": "40f592f8-0a80-4609-95f9-ac4616965252",
   "metadata": {},
   "outputs": [
    {
     "data": {
      "text/plain": [
       "Index(['Row ID+O6G3A1:R6', 'Order ID', 'Order Date', 'Ship Date', 'Ship Mode',\n",
       "       'Customer ID', 'Customer Name', 'Segment', 'Country', 'City', 'State',\n",
       "       'Region', 'Product ID', 'Category', 'Sub-Category', 'Product Name',\n",
       "       'Sales', 'Quantity', 'Profit', 'Returns', 'Payment Mode', 'ind1',\n",
       "       'ind2'],\n",
       "      dtype='object')"
      ]
     },
     "execution_count": 13,
     "metadata": {},
     "output_type": "execute_result"
    }
   ],
   "source": [
    "df1.columns"
   ]
  },
  {
   "cell_type": "code",
   "execution_count": 14,
   "id": "1df4beab-a77f-4189-8cf9-2f2e2d832874",
   "metadata": {},
   "outputs": [
    {
     "data": {
      "text/plain": [
       "Index(['Category', 'City', 'Country', 'Customer.ID', 'Customer.Name',\n",
       "       'Discount', 'Market', '记录数', 'Order.Date', 'Order.ID', 'Order.Priority',\n",
       "       'Product.ID', 'Product.Name', 'Profit', 'Quantity', 'Region', 'Row.ID',\n",
       "       'Sales', 'Segment', 'Ship.Date', 'Ship.Mode', 'Shipping.Cost', 'State',\n",
       "       'Sub.Category', 'Year', 'Market2', 'weeknum'],\n",
       "      dtype='object')"
      ]
     },
     "execution_count": 14,
     "metadata": {},
     "output_type": "execute_result"
    }
   ],
   "source": [
    "df2.columns"
   ]
  },
  {
   "cell_type": "code",
   "execution_count": 15,
   "id": "6355a15c-dbc4-4471-8285-1dc04443e5d1",
   "metadata": {},
   "outputs": [
    {
     "data": {
      "text/plain": [
       "Index(['Invoice', 'StockCode', 'Description', 'Quantity', 'InvoiceDate',\n",
       "       'Price', 'Customer ID', 'Country'],\n",
       "      dtype='object')"
      ]
     },
     "execution_count": 15,
     "metadata": {},
     "output_type": "execute_result"
    }
   ],
   "source": [
    "df3.columns"
   ]
  },
  {
   "cell_type": "markdown",
   "id": "11444861-368a-4cd7-828b-330011223c19",
   "metadata": {},
   "source": [
    "## Step 4: Data cleaning"
   ]
  },
  {
   "cell_type": "code",
   "execution_count": null,
   "id": "9f1167da-f272-4395-80ee-21e5faaa1f60",
   "metadata": {},
   "outputs": [],
   "source": [
    "# drop the unecessary columns"
   ]
  },
  {
   "cell_type": "code",
   "execution_count": 89,
   "id": "512a25ff-f511-4ff2-8d7b-e21a06fc6cd8",
   "metadata": {},
   "outputs": [],
   "source": [
    "df1.drop(columns=['Row ID+O6G3A1:R6','Ship Date', 'Ship Mode','Segment','City', 'State','Region', 'Product ID', 'Category', 'Sub-Category', 'Product Name',\n",
    "       \n",
    "                'Returns', 'Payment Mode', 'ind1',  'ind2', 'Customer Name','Order ID'],inplace=True)"
   ]
  },
  {
   "cell_type": "code",
   "execution_count": 90,
   "id": "40df1072-d3db-4606-87cf-f91bb78cc2b7",
   "metadata": {},
   "outputs": [],
   "source": [
    "df2.drop(columns=['Category', 'City', 'Discount', 'Market', '记录数','Order.Priority',\n",
    "       'Product.ID', 'Product.Name','Region', 'Row.ID', 'Segment', 'Ship.Date', 'Ship.Mode', 'Shipping.Cost', 'State',\n",
    "       'Sub.Category', 'Year', 'Market2', 'weeknum', 'Customer.Name', 'Order.ID'],inplace=True)"
   ]
  },
  {
   "cell_type": "code",
   "execution_count": 91,
   "id": "3c1443fc-4a5d-4d02-8f25-b99ae68c93c2",
   "metadata": {},
   "outputs": [],
   "source": [
    "df3.drop(columns=['Invoice', 'StockCode', 'Description'],inplace=True)"
   ]
  },
  {
   "cell_type": "code",
   "execution_count": 92,
   "id": "9c4a3609-f3a0-469e-9e80-7cf88d0c00c7",
   "metadata": {},
   "outputs": [
    {
     "data": {
      "text/plain": [
       "Index(['Order Date', 'Customer ID', 'Country', 'Sales', 'Quantity', 'Profit'], dtype='object')"
      ]
     },
     "execution_count": 92,
     "metadata": {},
     "output_type": "execute_result"
    }
   ],
   "source": [
    "df1.columns"
   ]
  },
  {
   "cell_type": "code",
   "execution_count": 93,
   "id": "856ec051-ea5b-4351-8d71-279059e6d06a",
   "metadata": {},
   "outputs": [
    {
     "data": {
      "text/plain": [
       "Index(['Country', 'Customer.ID', 'Order.Date', 'Profit', 'Quantity', 'Sales'], dtype='object')"
      ]
     },
     "execution_count": 93,
     "metadata": {},
     "output_type": "execute_result"
    }
   ],
   "source": [
    "df2.columns"
   ]
  },
  {
   "cell_type": "code",
   "execution_count": 94,
   "id": "9bbc961c-607f-44b0-9ded-744627c4d54d",
   "metadata": {},
   "outputs": [
    {
     "data": {
      "text/plain": [
       "Index(['Quantity', 'InvoiceDate', 'Price', 'Customer ID', 'Country'], dtype='object')"
      ]
     },
     "execution_count": 94,
     "metadata": {},
     "output_type": "execute_result"
    }
   ],
   "source": [
    "df3.columns"
   ]
  },
  {
   "cell_type": "code",
   "execution_count": 95,
   "id": "69fbc7d0-ca4c-4720-bb17-d038d67eb905",
   "metadata": {},
   "outputs": [],
   "source": [
    "df1.rename(columns={'Sales':'UnitPrice', 'Order Date':'Order_Date', 'Customer ID':'Customer_ID', 'Profit':'TotalPrice'},inplace=True)"
   ]
  },
  {
   "cell_type": "code",
   "execution_count": 96,
   "id": "209d5a13-5d30-48bf-88eb-35aebb0a83ad",
   "metadata": {},
   "outputs": [
    {
     "data": {
      "text/plain": [
       "Index(['Order_Date', 'Customer_ID', 'Country', 'UnitPrice', 'Quantity',\n",
       "       'TotalPrice'],\n",
       "      dtype='object')"
      ]
     },
     "execution_count": 96,
     "metadata": {},
     "output_type": "execute_result"
    }
   ],
   "source": [
    "df1.columns"
   ]
  },
  {
   "cell_type": "code",
   "execution_count": 97,
   "id": "471c1059-6ab4-4dc4-a1a0-700ab6a26cad",
   "metadata": {},
   "outputs": [],
   "source": [
    "df2.rename(columns={'Sales':'UnitPrice', 'Order.Date':'Order_Date', 'Customer.ID':'Customer_ID', 'Profit':'TotalPrice'},inplace=True)"
   ]
  },
  {
   "cell_type": "code",
   "execution_count": 98,
   "id": "966b79a5-c3d3-4935-862d-98ee88864789",
   "metadata": {},
   "outputs": [
    {
     "data": {
      "text/plain": [
       "Index(['Country', 'Customer_ID', 'Order_Date', 'TotalPrice', 'Quantity',\n",
       "       'UnitPrice'],\n",
       "      dtype='object')"
      ]
     },
     "execution_count": 98,
     "metadata": {},
     "output_type": "execute_result"
    }
   ],
   "source": [
    "df2.columns"
   ]
  },
  {
   "cell_type": "code",
   "execution_count": 100,
   "id": "5b25cfd5-b1e2-404f-93ba-31b8ee3bfac5",
   "metadata": {},
   "outputs": [],
   "source": [
    "df3.rename(columns={'InvoiceDate':'Order_Date','Customer ID':'Customer_ID','Price':'UnitPrice'},inplace=True)"
   ]
  },
  {
   "cell_type": "code",
   "execution_count": 102,
   "id": "f0ebab76-46e4-41c1-a417-087dd994bff0",
   "metadata": {},
   "outputs": [
    {
     "data": {
      "text/plain": [
       "Index(['Quantity', 'Order_Date', 'UnitPrice', 'Customer_ID', 'Country'], dtype='object')"
      ]
     },
     "execution_count": 102,
     "metadata": {},
     "output_type": "execute_result"
    }
   ],
   "source": [
    "df3.columns"
   ]
  },
  {
   "cell_type": "code",
   "execution_count": 103,
   "id": "29c3d53d-e254-4539-92d1-24c45474c478",
   "metadata": {},
   "outputs": [],
   "source": [
    "# adding the totalprice column to df3\n",
    "df3['TotalPrice']=df3['Quantity']*df3['UnitPrice']"
   ]
  },
  {
   "cell_type": "code",
   "execution_count": 104,
   "id": "5b8d9ef0-16e5-4a0e-a098-d3e9e96b557d",
   "metadata": {},
   "outputs": [
    {
     "data": {
      "text/plain": [
       "(5901, 6)"
      ]
     },
     "execution_count": 104,
     "metadata": {},
     "output_type": "execute_result"
    }
   ],
   "source": [
    "df1.shape"
   ]
  },
  {
   "cell_type": "code",
   "execution_count": 105,
   "id": "34f84f24-e930-4c37-a02d-993cac34a962",
   "metadata": {},
   "outputs": [
    {
     "data": {
      "text/plain": [
       "(51290, 6)"
      ]
     },
     "execution_count": 105,
     "metadata": {},
     "output_type": "execute_result"
    }
   ],
   "source": [
    "df2.shape"
   ]
  },
  {
   "cell_type": "code",
   "execution_count": 106,
   "id": "d7540970-6f84-4fd3-ad76-72cb462ca494",
   "metadata": {},
   "outputs": [
    {
     "data": {
      "text/plain": [
       "(525461, 6)"
      ]
     },
     "execution_count": 106,
     "metadata": {},
     "output_type": "execute_result"
    }
   ],
   "source": [
    "df3.shape"
   ]
  },
  {
   "cell_type": "markdown",
   "id": "62dd4ce0-5429-4b84-aa13-d42a91b2da64",
   "metadata": {},
   "source": [
    "## Step 5 Handling missing values"
   ]
  },
  {
   "cell_type": "code",
   "execution_count": 107,
   "id": "dab3031a-0b30-470d-b679-4c6cce887a29",
   "metadata": {},
   "outputs": [
    {
     "data": {
      "text/plain": [
       "Quantity            0\n",
       "Order_Date          0\n",
       "UnitPrice           0\n",
       "Customer_ID    107927\n",
       "Country             0\n",
       "TotalPrice          0\n",
       "dtype: int64"
      ]
     },
     "execution_count": 107,
     "metadata": {},
     "output_type": "execute_result"
    }
   ],
   "source": [
    "df3.isna().sum()"
   ]
  },
  {
   "cell_type": "code",
   "execution_count": 108,
   "id": "7d970797-d267-4720-ad87-9372250ddea2",
   "metadata": {},
   "outputs": [
    {
     "data": {
      "text/plain": [
       "Country        0\n",
       "Customer_ID    0\n",
       "Order_Date     0\n",
       "TotalPrice     0\n",
       "Quantity       0\n",
       "UnitPrice      0\n",
       "dtype: int64"
      ]
     },
     "execution_count": 108,
     "metadata": {},
     "output_type": "execute_result"
    }
   ],
   "source": [
    "df2.isna().sum()"
   ]
  },
  {
   "cell_type": "code",
   "execution_count": 109,
   "id": "af95516e-3a92-488d-826c-f221b45a4cc4",
   "metadata": {},
   "outputs": [
    {
     "data": {
      "text/plain": [
       "Order_Date     0\n",
       "Customer_ID    0\n",
       "Country        0\n",
       "UnitPrice      0\n",
       "Quantity       0\n",
       "TotalPrice     0\n",
       "dtype: int64"
      ]
     },
     "execution_count": 109,
     "metadata": {},
     "output_type": "execute_result"
    }
   ],
   "source": [
    "df1.isna().sum()"
   ]
  },
  {
   "cell_type": "code",
   "execution_count": 110,
   "id": "521f7e37-f422-4b78-ab3e-681fc6aed6d0",
   "metadata": {},
   "outputs": [],
   "source": [
    "# dropping null values from df3\n",
    "df3.dropna(inplace=True)"
   ]
  },
  {
   "cell_type": "code",
   "execution_count": 111,
   "id": "f8fb5fc5-8cf7-4ad4-9752-33fc6eac3d65",
   "metadata": {},
   "outputs": [
    {
     "data": {
      "text/plain": [
       "Quantity       0\n",
       "Order_Date     0\n",
       "UnitPrice      0\n",
       "Customer_ID    0\n",
       "Country        0\n",
       "TotalPrice     0\n",
       "dtype: int64"
      ]
     },
     "execution_count": 111,
     "metadata": {},
     "output_type": "execute_result"
    }
   ],
   "source": [
    "df3.isna().sum()"
   ]
  },
  {
   "cell_type": "code",
   "execution_count": 112,
   "id": "95932b3e-1137-44d9-a0f3-d441f8997dc9",
   "metadata": {},
   "outputs": [
    {
     "data": {
      "text/plain": [
       "(417534, 6)"
      ]
     },
     "execution_count": 112,
     "metadata": {},
     "output_type": "execute_result"
    }
   ],
   "source": [
    "df3.shape"
   ]
  },
  {
   "cell_type": "markdown",
   "id": "061a2d4b-37c9-4985-97e8-4ec4cc38cfab",
   "metadata": {},
   "source": [
    "## Step 6 :storing equal amount of data from each dataframe for further analysis"
   ]
  },
  {
   "cell_type": "code",
   "execution_count": 113,
   "id": "8f220ef4-b489-4aeb-b036-e4c34edddab5",
   "metadata": {},
   "outputs": [],
   "source": [
    "df4=df1[:3000]"
   ]
  },
  {
   "cell_type": "code",
   "execution_count": 114,
   "id": "734b5733-2380-4f27-9859-34036b940200",
   "metadata": {},
   "outputs": [],
   "source": [
    "df5=df2[:3000]"
   ]
  },
  {
   "cell_type": "code",
   "execution_count": 115,
   "id": "871b8803-0897-4ca6-88d6-469d9ca63402",
   "metadata": {},
   "outputs": [],
   "source": [
    "df6=df3[:3000]"
   ]
  },
  {
   "cell_type": "code",
   "execution_count": 116,
   "id": "8cbf81ae-b1ee-448a-834e-7cadb16d5873",
   "metadata": {},
   "outputs": [
    {
     "data": {
      "text/plain": [
       "((3000, 6), (3000, 6), (3000, 6))"
      ]
     },
     "execution_count": 116,
     "metadata": {},
     "output_type": "execute_result"
    }
   ],
   "source": [
    "df4.shape,df5.shape,df6.shape"
   ]
  },
  {
   "cell_type": "code",
   "execution_count": 117,
   "id": "16fec5ff-6697-45a7-9fe6-fec620d92855",
   "metadata": {},
   "outputs": [
    {
     "data": {
      "text/html": [
       "<div>\n",
       "<style scoped>\n",
       "    .dataframe tbody tr th:only-of-type {\n",
       "        vertical-align: middle;\n",
       "    }\n",
       "\n",
       "    .dataframe tbody tr th {\n",
       "        vertical-align: top;\n",
       "    }\n",
       "\n",
       "    .dataframe thead th {\n",
       "        text-align: right;\n",
       "    }\n",
       "</style>\n",
       "<table border=\"1\" class=\"dataframe\">\n",
       "  <thead>\n",
       "    <tr style=\"text-align: right;\">\n",
       "      <th></th>\n",
       "      <th>Quantity</th>\n",
       "      <th>Order_Date</th>\n",
       "      <th>UnitPrice</th>\n",
       "      <th>Customer_ID</th>\n",
       "      <th>Country</th>\n",
       "      <th>TotalPrice</th>\n",
       "    </tr>\n",
       "  </thead>\n",
       "  <tbody>\n",
       "    <tr>\n",
       "      <th>0</th>\n",
       "      <td>12</td>\n",
       "      <td>01-12-09 7:45</td>\n",
       "      <td>6.95</td>\n",
       "      <td>13085.0</td>\n",
       "      <td>United Kingdom</td>\n",
       "      <td>83.4</td>\n",
       "    </tr>\n",
       "    <tr>\n",
       "      <th>1</th>\n",
       "      <td>12</td>\n",
       "      <td>01-12-09 7:45</td>\n",
       "      <td>6.75</td>\n",
       "      <td>13085.0</td>\n",
       "      <td>United Kingdom</td>\n",
       "      <td>81.0</td>\n",
       "    </tr>\n",
       "    <tr>\n",
       "      <th>2</th>\n",
       "      <td>12</td>\n",
       "      <td>01-12-09 7:45</td>\n",
       "      <td>6.75</td>\n",
       "      <td>13085.0</td>\n",
       "      <td>United Kingdom</td>\n",
       "      <td>81.0</td>\n",
       "    </tr>\n",
       "    <tr>\n",
       "      <th>3</th>\n",
       "      <td>48</td>\n",
       "      <td>01-12-09 7:45</td>\n",
       "      <td>2.10</td>\n",
       "      <td>13085.0</td>\n",
       "      <td>United Kingdom</td>\n",
       "      <td>100.8</td>\n",
       "    </tr>\n",
       "  </tbody>\n",
       "</table>\n",
       "</div>"
      ],
      "text/plain": [
       "   Quantity     Order_Date  UnitPrice  Customer_ID         Country  TotalPrice\n",
       "0        12  01-12-09 7:45       6.95      13085.0  United Kingdom        83.4\n",
       "1        12  01-12-09 7:45       6.75      13085.0  United Kingdom        81.0\n",
       "2        12  01-12-09 7:45       6.75      13085.0  United Kingdom        81.0\n",
       "3        48  01-12-09 7:45       2.10      13085.0  United Kingdom       100.8"
      ]
     },
     "execution_count": 117,
     "metadata": {},
     "output_type": "execute_result"
    }
   ],
   "source": [
    "df6.head(4)"
   ]
  },
  {
   "cell_type": "code",
   "execution_count": 118,
   "id": "4bc2962b-7654-49eb-8fb6-d1674bca1250",
   "metadata": {},
   "outputs": [
    {
     "data": {
      "text/html": [
       "<div>\n",
       "<style scoped>\n",
       "    .dataframe tbody tr th:only-of-type {\n",
       "        vertical-align: middle;\n",
       "    }\n",
       "\n",
       "    .dataframe tbody tr th {\n",
       "        vertical-align: top;\n",
       "    }\n",
       "\n",
       "    .dataframe thead th {\n",
       "        text-align: right;\n",
       "    }\n",
       "</style>\n",
       "<table border=\"1\" class=\"dataframe\">\n",
       "  <thead>\n",
       "    <tr style=\"text-align: right;\">\n",
       "      <th></th>\n",
       "      <th>Order_Date</th>\n",
       "      <th>Customer_ID</th>\n",
       "      <th>Country</th>\n",
       "      <th>UnitPrice</th>\n",
       "      <th>Quantity</th>\n",
       "      <th>TotalPrice</th>\n",
       "    </tr>\n",
       "  </thead>\n",
       "  <tbody>\n",
       "    <tr>\n",
       "      <th>0</th>\n",
       "      <td>01-01-2019</td>\n",
       "      <td>BM-11575</td>\n",
       "      <td>United States</td>\n",
       "      <td>73.94</td>\n",
       "      <td>1</td>\n",
       "      <td>28.2668</td>\n",
       "    </tr>\n",
       "    <tr>\n",
       "      <th>1</th>\n",
       "      <td>02-01-2019</td>\n",
       "      <td>BM-11575</td>\n",
       "      <td>United States</td>\n",
       "      <td>173.94</td>\n",
       "      <td>3</td>\n",
       "      <td>38.2668</td>\n",
       "    </tr>\n",
       "    <tr>\n",
       "      <th>2</th>\n",
       "      <td>02-01-2019</td>\n",
       "      <td>BM-11575</td>\n",
       "      <td>United States</td>\n",
       "      <td>231.98</td>\n",
       "      <td>2</td>\n",
       "      <td>67.2742</td>\n",
       "    </tr>\n",
       "    <tr>\n",
       "      <th>3</th>\n",
       "      <td>03-01-2019</td>\n",
       "      <td>LR-16915</td>\n",
       "      <td>United States</td>\n",
       "      <td>114.46</td>\n",
       "      <td>2</td>\n",
       "      <td>28.6150</td>\n",
       "    </tr>\n",
       "  </tbody>\n",
       "</table>\n",
       "</div>"
      ],
      "text/plain": [
       "   Order_Date Customer_ID        Country  UnitPrice  Quantity  TotalPrice\n",
       "0  01-01-2019    BM-11575  United States      73.94         1     28.2668\n",
       "1  02-01-2019    BM-11575  United States     173.94         3     38.2668\n",
       "2  02-01-2019    BM-11575  United States     231.98         2     67.2742\n",
       "3  03-01-2019    LR-16915  United States     114.46         2     28.6150"
      ]
     },
     "execution_count": 118,
     "metadata": {},
     "output_type": "execute_result"
    }
   ],
   "source": [
    "df4.head(4)"
   ]
  },
  {
   "cell_type": "code",
   "execution_count": 119,
   "id": "5c7c4d48-604c-4cd2-9e35-fafcec397083",
   "metadata": {},
   "outputs": [
    {
     "data": {
      "text/html": [
       "<div>\n",
       "<style scoped>\n",
       "    .dataframe tbody tr th:only-of-type {\n",
       "        vertical-align: middle;\n",
       "    }\n",
       "\n",
       "    .dataframe tbody tr th {\n",
       "        vertical-align: top;\n",
       "    }\n",
       "\n",
       "    .dataframe thead th {\n",
       "        text-align: right;\n",
       "    }\n",
       "</style>\n",
       "<table border=\"1\" class=\"dataframe\">\n",
       "  <thead>\n",
       "    <tr style=\"text-align: right;\">\n",
       "      <th></th>\n",
       "      <th>Country</th>\n",
       "      <th>Customer_ID</th>\n",
       "      <th>Order_Date</th>\n",
       "      <th>TotalPrice</th>\n",
       "      <th>Quantity</th>\n",
       "      <th>UnitPrice</th>\n",
       "    </tr>\n",
       "  </thead>\n",
       "  <tbody>\n",
       "    <tr>\n",
       "      <th>0</th>\n",
       "      <td>United States</td>\n",
       "      <td>LS-172304</td>\n",
       "      <td>2011-01-07 00:00:00.000</td>\n",
       "      <td>9.3312</td>\n",
       "      <td>3</td>\n",
       "      <td>19</td>\n",
       "    </tr>\n",
       "    <tr>\n",
       "      <th>1</th>\n",
       "      <td>United States</td>\n",
       "      <td>MV-174854</td>\n",
       "      <td>2011-01-21 00:00:00.000</td>\n",
       "      <td>9.2928</td>\n",
       "      <td>2</td>\n",
       "      <td>19</td>\n",
       "    </tr>\n",
       "    <tr>\n",
       "      <th>2</th>\n",
       "      <td>United States</td>\n",
       "      <td>CS-121304</td>\n",
       "      <td>2011-08-05 00:00:00.000</td>\n",
       "      <td>9.8418</td>\n",
       "      <td>3</td>\n",
       "      <td>21</td>\n",
       "    </tr>\n",
       "    <tr>\n",
       "      <th>3</th>\n",
       "      <td>United States</td>\n",
       "      <td>CS-121304</td>\n",
       "      <td>2011-08-05 00:00:00.000</td>\n",
       "      <td>53.2608</td>\n",
       "      <td>2</td>\n",
       "      <td>111</td>\n",
       "    </tr>\n",
       "    <tr>\n",
       "      <th>4</th>\n",
       "      <td>United States</td>\n",
       "      <td>AP-109154</td>\n",
       "      <td>2011-09-29 00:00:00.000</td>\n",
       "      <td>3.1104</td>\n",
       "      <td>1</td>\n",
       "      <td>6</td>\n",
       "    </tr>\n",
       "  </tbody>\n",
       "</table>\n",
       "</div>"
      ],
      "text/plain": [
       "         Country Customer_ID               Order_Date  TotalPrice  Quantity  \\\n",
       "0  United States   LS-172304  2011-01-07 00:00:00.000      9.3312         3   \n",
       "1  United States   MV-174854  2011-01-21 00:00:00.000      9.2928         2   \n",
       "2  United States   CS-121304  2011-08-05 00:00:00.000      9.8418         3   \n",
       "3  United States   CS-121304  2011-08-05 00:00:00.000     53.2608         2   \n",
       "4  United States   AP-109154  2011-09-29 00:00:00.000      3.1104         1   \n",
       "\n",
       "   UnitPrice  \n",
       "0         19  \n",
       "1         19  \n",
       "2         21  \n",
       "3        111  \n",
       "4          6  "
      ]
     },
     "execution_count": 119,
     "metadata": {},
     "output_type": "execute_result"
    }
   ],
   "source": [
    "df5.head(5)"
   ]
  },
  {
   "cell_type": "markdown",
   "id": "8b70871d-e558-4fdb-add4-80f77b6e7879",
   "metadata": {},
   "source": [
    "## Step 7 Merge all the dataframe for further analysis"
   ]
  },
  {
   "cell_type": "code",
   "execution_count": 120,
   "id": "aa1680cc-d668-492c-8f45-2bbaf1f70033",
   "metadata": {},
   "outputs": [],
   "source": [
    "retail=pd.concat([df4,df5,df6])"
   ]
  },
  {
   "cell_type": "code",
   "execution_count": null,
   "id": "62f688ae-7d07-46ef-9ff2-062531aabe29",
   "metadata": {},
   "outputs": [],
   "source": [
    "# assigning unique order id "
   ]
  },
  {
   "cell_type": "code",
   "execution_count": 121,
   "id": "13b5b382-3e13-471e-a842-1256710610d3",
   "metadata": {},
   "outputs": [],
   "source": [
    "retail['Order_ID']= range(1, len(retail) + 1)"
   ]
  },
  {
   "cell_type": "code",
   "execution_count": 122,
   "id": "15db508b-5d50-45f0-905d-0f34144af0d1",
   "metadata": {},
   "outputs": [
    {
     "data": {
      "text/plain": [
       "9000"
      ]
     },
     "execution_count": 122,
     "metadata": {},
     "output_type": "execute_result"
    }
   ],
   "source": [
    "len(retail)"
   ]
  },
  {
   "cell_type": "code",
   "execution_count": 123,
   "id": "003bb3f8-3141-440d-9127-2aa6486b1f26",
   "metadata": {},
   "outputs": [
    {
     "data": {
      "text/html": [
       "<div>\n",
       "<style scoped>\n",
       "    .dataframe tbody tr th:only-of-type {\n",
       "        vertical-align: middle;\n",
       "    }\n",
       "\n",
       "    .dataframe tbody tr th {\n",
       "        vertical-align: top;\n",
       "    }\n",
       "\n",
       "    .dataframe thead th {\n",
       "        text-align: right;\n",
       "    }\n",
       "</style>\n",
       "<table border=\"1\" class=\"dataframe\">\n",
       "  <thead>\n",
       "    <tr style=\"text-align: right;\">\n",
       "      <th></th>\n",
       "      <th>Order_Date</th>\n",
       "      <th>Customer_ID</th>\n",
       "      <th>Country</th>\n",
       "      <th>UnitPrice</th>\n",
       "      <th>Quantity</th>\n",
       "      <th>TotalPrice</th>\n",
       "      <th>Order_ID</th>\n",
       "    </tr>\n",
       "  </thead>\n",
       "  <tbody>\n",
       "    <tr>\n",
       "      <th>0</th>\n",
       "      <td>01-01-2019</td>\n",
       "      <td>BM-11575</td>\n",
       "      <td>United States</td>\n",
       "      <td>73.94</td>\n",
       "      <td>1</td>\n",
       "      <td>28.2668</td>\n",
       "      <td>1</td>\n",
       "    </tr>\n",
       "    <tr>\n",
       "      <th>1</th>\n",
       "      <td>02-01-2019</td>\n",
       "      <td>BM-11575</td>\n",
       "      <td>United States</td>\n",
       "      <td>173.94</td>\n",
       "      <td>3</td>\n",
       "      <td>38.2668</td>\n",
       "      <td>2</td>\n",
       "    </tr>\n",
       "    <tr>\n",
       "      <th>2</th>\n",
       "      <td>02-01-2019</td>\n",
       "      <td>BM-11575</td>\n",
       "      <td>United States</td>\n",
       "      <td>231.98</td>\n",
       "      <td>2</td>\n",
       "      <td>67.2742</td>\n",
       "      <td>3</td>\n",
       "    </tr>\n",
       "    <tr>\n",
       "      <th>3</th>\n",
       "      <td>03-01-2019</td>\n",
       "      <td>LR-16915</td>\n",
       "      <td>United States</td>\n",
       "      <td>114.46</td>\n",
       "      <td>2</td>\n",
       "      <td>28.6150</td>\n",
       "      <td>4</td>\n",
       "    </tr>\n",
       "    <tr>\n",
       "      <th>4</th>\n",
       "      <td>03-01-2019</td>\n",
       "      <td>CA-12310</td>\n",
       "      <td>United States</td>\n",
       "      <td>30.08</td>\n",
       "      <td>2</td>\n",
       "      <td>-5.2640</td>\n",
       "      <td>5</td>\n",
       "    </tr>\n",
       "    <tr>\n",
       "      <th>...</th>\n",
       "      <td>...</td>\n",
       "      <td>...</td>\n",
       "      <td>...</td>\n",
       "      <td>...</td>\n",
       "      <td>...</td>\n",
       "      <td>...</td>\n",
       "      <td>...</td>\n",
       "    </tr>\n",
       "    <tr>\n",
       "      <th>3912</th>\n",
       "      <td>02-12-09 11:55</td>\n",
       "      <td>13564.0</td>\n",
       "      <td>United Kingdom</td>\n",
       "      <td>3.95</td>\n",
       "      <td>2</td>\n",
       "      <td>7.9000</td>\n",
       "      <td>8996</td>\n",
       "    </tr>\n",
       "    <tr>\n",
       "      <th>3913</th>\n",
       "      <td>02-12-09 11:55</td>\n",
       "      <td>13564.0</td>\n",
       "      <td>United Kingdom</td>\n",
       "      <td>4.95</td>\n",
       "      <td>2</td>\n",
       "      <td>9.9000</td>\n",
       "      <td>8997</td>\n",
       "    </tr>\n",
       "    <tr>\n",
       "      <th>3914</th>\n",
       "      <td>02-12-09 11:55</td>\n",
       "      <td>13564.0</td>\n",
       "      <td>United Kingdom</td>\n",
       "      <td>5.95</td>\n",
       "      <td>2</td>\n",
       "      <td>11.9000</td>\n",
       "      <td>8998</td>\n",
       "    </tr>\n",
       "    <tr>\n",
       "      <th>3915</th>\n",
       "      <td>02-12-09 11:55</td>\n",
       "      <td>13564.0</td>\n",
       "      <td>United Kingdom</td>\n",
       "      <td>3.75</td>\n",
       "      <td>3</td>\n",
       "      <td>11.2500</td>\n",
       "      <td>8999</td>\n",
       "    </tr>\n",
       "    <tr>\n",
       "      <th>3916</th>\n",
       "      <td>02-12-09 11:55</td>\n",
       "      <td>13564.0</td>\n",
       "      <td>United Kingdom</td>\n",
       "      <td>1.49</td>\n",
       "      <td>4</td>\n",
       "      <td>5.9600</td>\n",
       "      <td>9000</td>\n",
       "    </tr>\n",
       "  </tbody>\n",
       "</table>\n",
       "<p>9000 rows × 7 columns</p>\n",
       "</div>"
      ],
      "text/plain": [
       "          Order_Date Customer_ID         Country  UnitPrice  Quantity  \\\n",
       "0         01-01-2019    BM-11575   United States      73.94         1   \n",
       "1         02-01-2019    BM-11575   United States     173.94         3   \n",
       "2         02-01-2019    BM-11575   United States     231.98         2   \n",
       "3         03-01-2019    LR-16915   United States     114.46         2   \n",
       "4         03-01-2019    CA-12310   United States      30.08         2   \n",
       "...              ...         ...             ...        ...       ...   \n",
       "3912  02-12-09 11:55     13564.0  United Kingdom       3.95         2   \n",
       "3913  02-12-09 11:55     13564.0  United Kingdom       4.95         2   \n",
       "3914  02-12-09 11:55     13564.0  United Kingdom       5.95         2   \n",
       "3915  02-12-09 11:55     13564.0  United Kingdom       3.75         3   \n",
       "3916  02-12-09 11:55     13564.0  United Kingdom       1.49         4   \n",
       "\n",
       "      TotalPrice  Order_ID  \n",
       "0        28.2668         1  \n",
       "1        38.2668         2  \n",
       "2        67.2742         3  \n",
       "3        28.6150         4  \n",
       "4        -5.2640         5  \n",
       "...          ...       ...  \n",
       "3912      7.9000      8996  \n",
       "3913      9.9000      8997  \n",
       "3914     11.9000      8998  \n",
       "3915     11.2500      8999  \n",
       "3916      5.9600      9000  \n",
       "\n",
       "[9000 rows x 7 columns]"
      ]
     },
     "execution_count": 123,
     "metadata": {},
     "output_type": "execute_result"
    }
   ],
   "source": [
    "retail"
   ]
  },
  {
   "cell_type": "code",
   "execution_count": 124,
   "id": "1371cd81-a671-4d33-bddb-a60c616a6069",
   "metadata": {},
   "outputs": [
    {
     "data": {
      "text/plain": [
       "Order_Date      object\n",
       "Customer_ID     object\n",
       "Country         object\n",
       "UnitPrice      float64\n",
       "Quantity         int64\n",
       "TotalPrice     float64\n",
       "Order_ID         int64\n",
       "dtype: object"
      ]
     },
     "execution_count": 124,
     "metadata": {},
     "output_type": "execute_result"
    }
   ],
   "source": [
    "retail.dtypes"
   ]
  },
  {
   "cell_type": "code",
   "execution_count": 125,
   "id": "d81d7aa3-cadb-47c8-bb8c-73fbc3539799",
   "metadata": {},
   "outputs": [
    {
     "data": {
      "text/plain": [
       "0           01-01-2019\n",
       "1           02-01-2019\n",
       "2           02-01-2019\n",
       "3           03-01-2019\n",
       "4           03-01-2019\n",
       "             ...      \n",
       "3912    02-12-09 11:55\n",
       "3913    02-12-09 11:55\n",
       "3914    02-12-09 11:55\n",
       "3915    02-12-09 11:55\n",
       "3916    02-12-09 11:55\n",
       "Name: Order_Date, Length: 9000, dtype: object"
      ]
     },
     "execution_count": 125,
     "metadata": {},
     "output_type": "execute_result"
    }
   ],
   "source": [
    "retail['Order_Date']"
   ]
  },
  {
   "cell_type": "code",
   "execution_count": null,
   "id": "1418b7f6-173f-496b-b451-56326c52f445",
   "metadata": {},
   "outputs": [],
   "source": [
    "# converting order_date datatype to date"
   ]
  },
  {
   "cell_type": "code",
   "execution_count": 126,
   "id": "d82ce2f9-e20d-4cea-9872-bb740f4718f7",
   "metadata": {
    "scrolled": true
   },
   "outputs": [],
   "source": [
    "retail['Order_Date'] = pd.to_datetime(retail['Order_Date'], dayfirst=True, format='mixed', errors='coerce')\n"
   ]
  },
  {
   "cell_type": "code",
   "execution_count": 127,
   "id": "eb85d1ba-bd50-4dc3-b994-d18622fa6a98",
   "metadata": {},
   "outputs": [],
   "source": [
    "# changing the format\n",
    "retail['Order_Date'] = retail['Order_Date'].dt.strftime('%Y-%m-%d')\n"
   ]
  },
  {
   "cell_type": "code",
   "execution_count": 128,
   "id": "e51f3d80-f56e-4415-aec5-a2c33bde8f2b",
   "metadata": {},
   "outputs": [
    {
     "data": {
      "text/html": [
       "<div>\n",
       "<style scoped>\n",
       "    .dataframe tbody tr th:only-of-type {\n",
       "        vertical-align: middle;\n",
       "    }\n",
       "\n",
       "    .dataframe tbody tr th {\n",
       "        vertical-align: top;\n",
       "    }\n",
       "\n",
       "    .dataframe thead th {\n",
       "        text-align: right;\n",
       "    }\n",
       "</style>\n",
       "<table border=\"1\" class=\"dataframe\">\n",
       "  <thead>\n",
       "    <tr style=\"text-align: right;\">\n",
       "      <th></th>\n",
       "      <th>Order_Date</th>\n",
       "      <th>Customer_ID</th>\n",
       "      <th>Country</th>\n",
       "      <th>UnitPrice</th>\n",
       "      <th>Quantity</th>\n",
       "      <th>TotalPrice</th>\n",
       "      <th>Order_ID</th>\n",
       "    </tr>\n",
       "  </thead>\n",
       "  <tbody>\n",
       "    <tr>\n",
       "      <th>0</th>\n",
       "      <td>2019-01-01</td>\n",
       "      <td>BM-11575</td>\n",
       "      <td>United States</td>\n",
       "      <td>73.94</td>\n",
       "      <td>1</td>\n",
       "      <td>28.2668</td>\n",
       "      <td>1</td>\n",
       "    </tr>\n",
       "    <tr>\n",
       "      <th>1</th>\n",
       "      <td>2019-01-02</td>\n",
       "      <td>BM-11575</td>\n",
       "      <td>United States</td>\n",
       "      <td>173.94</td>\n",
       "      <td>3</td>\n",
       "      <td>38.2668</td>\n",
       "      <td>2</td>\n",
       "    </tr>\n",
       "    <tr>\n",
       "      <th>2</th>\n",
       "      <td>2019-01-02</td>\n",
       "      <td>BM-11575</td>\n",
       "      <td>United States</td>\n",
       "      <td>231.98</td>\n",
       "      <td>2</td>\n",
       "      <td>67.2742</td>\n",
       "      <td>3</td>\n",
       "    </tr>\n",
       "    <tr>\n",
       "      <th>3</th>\n",
       "      <td>2019-01-03</td>\n",
       "      <td>LR-16915</td>\n",
       "      <td>United States</td>\n",
       "      <td>114.46</td>\n",
       "      <td>2</td>\n",
       "      <td>28.6150</td>\n",
       "      <td>4</td>\n",
       "    </tr>\n",
       "    <tr>\n",
       "      <th>4</th>\n",
       "      <td>2019-01-03</td>\n",
       "      <td>CA-12310</td>\n",
       "      <td>United States</td>\n",
       "      <td>30.08</td>\n",
       "      <td>2</td>\n",
       "      <td>-5.2640</td>\n",
       "      <td>5</td>\n",
       "    </tr>\n",
       "    <tr>\n",
       "      <th>...</th>\n",
       "      <td>...</td>\n",
       "      <td>...</td>\n",
       "      <td>...</td>\n",
       "      <td>...</td>\n",
       "      <td>...</td>\n",
       "      <td>...</td>\n",
       "      <td>...</td>\n",
       "    </tr>\n",
       "    <tr>\n",
       "      <th>3912</th>\n",
       "      <td>2009-12-02</td>\n",
       "      <td>13564.0</td>\n",
       "      <td>United Kingdom</td>\n",
       "      <td>3.95</td>\n",
       "      <td>2</td>\n",
       "      <td>7.9000</td>\n",
       "      <td>8996</td>\n",
       "    </tr>\n",
       "    <tr>\n",
       "      <th>3913</th>\n",
       "      <td>2009-12-02</td>\n",
       "      <td>13564.0</td>\n",
       "      <td>United Kingdom</td>\n",
       "      <td>4.95</td>\n",
       "      <td>2</td>\n",
       "      <td>9.9000</td>\n",
       "      <td>8997</td>\n",
       "    </tr>\n",
       "    <tr>\n",
       "      <th>3914</th>\n",
       "      <td>2009-12-02</td>\n",
       "      <td>13564.0</td>\n",
       "      <td>United Kingdom</td>\n",
       "      <td>5.95</td>\n",
       "      <td>2</td>\n",
       "      <td>11.9000</td>\n",
       "      <td>8998</td>\n",
       "    </tr>\n",
       "    <tr>\n",
       "      <th>3915</th>\n",
       "      <td>2009-12-02</td>\n",
       "      <td>13564.0</td>\n",
       "      <td>United Kingdom</td>\n",
       "      <td>3.75</td>\n",
       "      <td>3</td>\n",
       "      <td>11.2500</td>\n",
       "      <td>8999</td>\n",
       "    </tr>\n",
       "    <tr>\n",
       "      <th>3916</th>\n",
       "      <td>2009-12-02</td>\n",
       "      <td>13564.0</td>\n",
       "      <td>United Kingdom</td>\n",
       "      <td>1.49</td>\n",
       "      <td>4</td>\n",
       "      <td>5.9600</td>\n",
       "      <td>9000</td>\n",
       "    </tr>\n",
       "  </tbody>\n",
       "</table>\n",
       "<p>9000 rows × 7 columns</p>\n",
       "</div>"
      ],
      "text/plain": [
       "      Order_Date Customer_ID         Country  UnitPrice  Quantity  TotalPrice  \\\n",
       "0     2019-01-01    BM-11575   United States      73.94         1     28.2668   \n",
       "1     2019-01-02    BM-11575   United States     173.94         3     38.2668   \n",
       "2     2019-01-02    BM-11575   United States     231.98         2     67.2742   \n",
       "3     2019-01-03    LR-16915   United States     114.46         2     28.6150   \n",
       "4     2019-01-03    CA-12310   United States      30.08         2     -5.2640   \n",
       "...          ...         ...             ...        ...       ...         ...   \n",
       "3912  2009-12-02     13564.0  United Kingdom       3.95         2      7.9000   \n",
       "3913  2009-12-02     13564.0  United Kingdom       4.95         2      9.9000   \n",
       "3914  2009-12-02     13564.0  United Kingdom       5.95         2     11.9000   \n",
       "3915  2009-12-02     13564.0  United Kingdom       3.75         3     11.2500   \n",
       "3916  2009-12-02     13564.0  United Kingdom       1.49         4      5.9600   \n",
       "\n",
       "      Order_ID  \n",
       "0            1  \n",
       "1            2  \n",
       "2            3  \n",
       "3            4  \n",
       "4            5  \n",
       "...        ...  \n",
       "3912      8996  \n",
       "3913      8997  \n",
       "3914      8998  \n",
       "3915      8999  \n",
       "3916      9000  \n",
       "\n",
       "[9000 rows x 7 columns]"
      ]
     },
     "execution_count": 128,
     "metadata": {},
     "output_type": "execute_result"
    }
   ],
   "source": [
    "retail"
   ]
  },
  {
   "cell_type": "code",
   "execution_count": 129,
   "id": "d90ca37b-f1f8-4654-a475-c0f4259914c9",
   "metadata": {},
   "outputs": [
    {
     "data": {
      "text/plain": [
       "Order_Date     0\n",
       "Customer_ID    0\n",
       "Country        0\n",
       "UnitPrice      0\n",
       "Quantity       0\n",
       "TotalPrice     0\n",
       "Order_ID       0\n",
       "dtype: int64"
      ]
     },
     "execution_count": 129,
     "metadata": {},
     "output_type": "execute_result"
    }
   ],
   "source": [
    "retail.isna().sum()"
   ]
  },
  {
   "cell_type": "code",
   "execution_count": 130,
   "id": "29b48033-e7ba-4c7a-a2ca-8c2ad2190493",
   "metadata": {},
   "outputs": [
    {
     "data": {
      "text/plain": [
       "0"
      ]
     },
     "execution_count": 130,
     "metadata": {},
     "output_type": "execute_result"
    }
   ],
   "source": [
    "retail.duplicated().sum()"
   ]
  },
  {
   "cell_type": "markdown",
   "id": "e69e09c7-5ac0-4a0e-b862-6f5a984cd1b6",
   "metadata": {},
   "source": [
    "## Step 8 Export cleaned data to a CSV"
   ]
  },
  {
   "cell_type": "code",
   "execution_count": 131,
   "id": "7c2f1587-1386-419d-9922-65f54f2f2d2d",
   "metadata": {},
   "outputs": [],
   "source": [
    "retail.to_csv('cleaned_build_week_data.csv',index=False)"
   ]
  }
 ],
 "metadata": {
  "kernelspec": {
   "display_name": "Python 3 (ipykernel)",
   "language": "python",
   "name": "python3"
  },
  "language_info": {
   "codemirror_mode": {
    "name": "ipython",
    "version": 3
   },
   "file_extension": ".py",
   "mimetype": "text/x-python",
   "name": "python",
   "nbconvert_exporter": "python",
   "pygments_lexer": "ipython3",
   "version": "3.11.5"
  }
 },
 "nbformat": 4,
 "nbformat_minor": 5
}
