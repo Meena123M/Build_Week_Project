{
 "cells": [
  {
   "cell_type": "markdown",
   "id": "b72bb385-d6be-40f2-a463-b7bb1c286e0c",
   "metadata": {},
   "source": [
    "## Step 1 : Import the necessary libraries"
   ]
  },
  {
   "cell_type": "code",
   "execution_count": 42,
   "id": "44e584a9-738c-4afb-b635-4f2e3ad8752b",
   "metadata": {},
   "outputs": [],
   "source": [
    "import pandas as pd\n",
    "import seaborn as sns\n",
    "import matplotlib.pyplot as plt\n",
    "import warnings\n",
    "warnings.filterwarnings('ignore')"
   ]
  },
  {
   "cell_type": "markdown",
   "id": "7a8f4aad-2f83-40ff-8d60-2df5febec4bf",
   "metadata": {},
   "source": [
    "## Step 2 : Load the data"
   ]
  },
  {
   "cell_type": "code",
   "execution_count": 2,
   "id": "95e62b75-46bf-433b-92a9-8b663b7e184f",
   "metadata": {},
   "outputs": [],
   "source": [
    "retail=pd.read_csv('cleaned_build_week_data.csv')"
   ]
  },
  {
   "cell_type": "code",
   "execution_count": 3,
   "id": "12dfbe28-e60f-4243-a7ed-3c42625786c6",
   "metadata": {
    "scrolled": true
   },
   "outputs": [
    {
     "data": {
      "text/html": [
       "<div>\n",
       "<style scoped>\n",
       "    .dataframe tbody tr th:only-of-type {\n",
       "        vertical-align: middle;\n",
       "    }\n",
       "\n",
       "    .dataframe tbody tr th {\n",
       "        vertical-align: top;\n",
       "    }\n",
       "\n",
       "    .dataframe thead th {\n",
       "        text-align: right;\n",
       "    }\n",
       "</style>\n",
       "<table border=\"1\" class=\"dataframe\">\n",
       "  <thead>\n",
       "    <tr style=\"text-align: right;\">\n",
       "      <th></th>\n",
       "      <th>Order_Date</th>\n",
       "      <th>Customer_ID</th>\n",
       "      <th>Country</th>\n",
       "      <th>UnitPrice</th>\n",
       "      <th>Quantity</th>\n",
       "      <th>TotalPrice</th>\n",
       "      <th>Order_ID</th>\n",
       "    </tr>\n",
       "  </thead>\n",
       "  <tbody>\n",
       "    <tr>\n",
       "      <th>0</th>\n",
       "      <td>2019-01-01</td>\n",
       "      <td>BM-11575</td>\n",
       "      <td>United States</td>\n",
       "      <td>73.94</td>\n",
       "      <td>1</td>\n",
       "      <td>28.2668</td>\n",
       "      <td>1</td>\n",
       "    </tr>\n",
       "    <tr>\n",
       "      <th>1</th>\n",
       "      <td>2019-01-02</td>\n",
       "      <td>BM-11575</td>\n",
       "      <td>United States</td>\n",
       "      <td>173.94</td>\n",
       "      <td>3</td>\n",
       "      <td>38.2668</td>\n",
       "      <td>2</td>\n",
       "    </tr>\n",
       "    <tr>\n",
       "      <th>2</th>\n",
       "      <td>2019-01-02</td>\n",
       "      <td>BM-11575</td>\n",
       "      <td>United States</td>\n",
       "      <td>231.98</td>\n",
       "      <td>2</td>\n",
       "      <td>67.2742</td>\n",
       "      <td>3</td>\n",
       "    </tr>\n",
       "    <tr>\n",
       "      <th>3</th>\n",
       "      <td>2019-01-03</td>\n",
       "      <td>LR-16915</td>\n",
       "      <td>United States</td>\n",
       "      <td>114.46</td>\n",
       "      <td>2</td>\n",
       "      <td>28.6150</td>\n",
       "      <td>4</td>\n",
       "    </tr>\n",
       "    <tr>\n",
       "      <th>4</th>\n",
       "      <td>2019-01-03</td>\n",
       "      <td>CA-12310</td>\n",
       "      <td>United States</td>\n",
       "      <td>30.08</td>\n",
       "      <td>2</td>\n",
       "      <td>-5.2640</td>\n",
       "      <td>5</td>\n",
       "    </tr>\n",
       "    <tr>\n",
       "      <th>...</th>\n",
       "      <td>...</td>\n",
       "      <td>...</td>\n",
       "      <td>...</td>\n",
       "      <td>...</td>\n",
       "      <td>...</td>\n",
       "      <td>...</td>\n",
       "      <td>...</td>\n",
       "    </tr>\n",
       "    <tr>\n",
       "      <th>8995</th>\n",
       "      <td>2009-12-02</td>\n",
       "      <td>13564.0</td>\n",
       "      <td>United Kingdom</td>\n",
       "      <td>3.95</td>\n",
       "      <td>2</td>\n",
       "      <td>7.9000</td>\n",
       "      <td>8996</td>\n",
       "    </tr>\n",
       "    <tr>\n",
       "      <th>8996</th>\n",
       "      <td>2009-12-02</td>\n",
       "      <td>13564.0</td>\n",
       "      <td>United Kingdom</td>\n",
       "      <td>4.95</td>\n",
       "      <td>2</td>\n",
       "      <td>9.9000</td>\n",
       "      <td>8997</td>\n",
       "    </tr>\n",
       "    <tr>\n",
       "      <th>8997</th>\n",
       "      <td>2009-12-02</td>\n",
       "      <td>13564.0</td>\n",
       "      <td>United Kingdom</td>\n",
       "      <td>5.95</td>\n",
       "      <td>2</td>\n",
       "      <td>11.9000</td>\n",
       "      <td>8998</td>\n",
       "    </tr>\n",
       "    <tr>\n",
       "      <th>8998</th>\n",
       "      <td>2009-12-02</td>\n",
       "      <td>13564.0</td>\n",
       "      <td>United Kingdom</td>\n",
       "      <td>3.75</td>\n",
       "      <td>3</td>\n",
       "      <td>11.2500</td>\n",
       "      <td>8999</td>\n",
       "    </tr>\n",
       "    <tr>\n",
       "      <th>8999</th>\n",
       "      <td>2009-12-02</td>\n",
       "      <td>13564.0</td>\n",
       "      <td>United Kingdom</td>\n",
       "      <td>1.49</td>\n",
       "      <td>4</td>\n",
       "      <td>5.9600</td>\n",
       "      <td>9000</td>\n",
       "    </tr>\n",
       "  </tbody>\n",
       "</table>\n",
       "<p>9000 rows × 7 columns</p>\n",
       "</div>"
      ],
      "text/plain": [
       "      Order_Date Customer_ID         Country  UnitPrice  Quantity  TotalPrice  \\\n",
       "0     2019-01-01    BM-11575   United States      73.94         1     28.2668   \n",
       "1     2019-01-02    BM-11575   United States     173.94         3     38.2668   \n",
       "2     2019-01-02    BM-11575   United States     231.98         2     67.2742   \n",
       "3     2019-01-03    LR-16915   United States     114.46         2     28.6150   \n",
       "4     2019-01-03    CA-12310   United States      30.08         2     -5.2640   \n",
       "...          ...         ...             ...        ...       ...         ...   \n",
       "8995  2009-12-02     13564.0  United Kingdom       3.95         2      7.9000   \n",
       "8996  2009-12-02     13564.0  United Kingdom       4.95         2      9.9000   \n",
       "8997  2009-12-02     13564.0  United Kingdom       5.95         2     11.9000   \n",
       "8998  2009-12-02     13564.0  United Kingdom       3.75         3     11.2500   \n",
       "8999  2009-12-02     13564.0  United Kingdom       1.49         4      5.9600   \n",
       "\n",
       "      Order_ID  \n",
       "0            1  \n",
       "1            2  \n",
       "2            3  \n",
       "3            4  \n",
       "4            5  \n",
       "...        ...  \n",
       "8995      8996  \n",
       "8996      8997  \n",
       "8997      8998  \n",
       "8998      8999  \n",
       "8999      9000  \n",
       "\n",
       "[9000 rows x 7 columns]"
      ]
     },
     "execution_count": 3,
     "metadata": {},
     "output_type": "execute_result"
    }
   ],
   "source": [
    "retail"
   ]
  },
  {
   "cell_type": "code",
   "execution_count": 4,
   "id": "a2341af0-b5ad-4fe0-938a-84a2dc6c2f39",
   "metadata": {},
   "outputs": [
    {
     "data": {
      "text/plain": [
       "(9000, 7)"
      ]
     },
     "execution_count": 4,
     "metadata": {},
     "output_type": "execute_result"
    }
   ],
   "source": [
    "# check the shape\n",
    "retail.shape"
   ]
  },
  {
   "cell_type": "markdown",
   "id": "6962722f-cf54-4851-8899-1fadf72ff6b1",
   "metadata": {},
   "source": [
    "##  Step 3: Statistical analysis"
   ]
  },
  {
   "cell_type": "code",
   "execution_count": 5,
   "id": "5363a562-91a3-402c-b947-c360ad3ed710",
   "metadata": {},
   "outputs": [
    {
     "name": "stdout",
     "output_type": "stream",
     "text": [
      "<class 'pandas.core.frame.DataFrame'>\n",
      "RangeIndex: 9000 entries, 0 to 8999\n",
      "Data columns (total 7 columns):\n",
      " #   Column       Non-Null Count  Dtype  \n",
      "---  ------       --------------  -----  \n",
      " 0   Order_Date   9000 non-null   object \n",
      " 1   Customer_ID  9000 non-null   object \n",
      " 2   Country      9000 non-null   object \n",
      " 3   UnitPrice    9000 non-null   float64\n",
      " 4   Quantity     9000 non-null   int64  \n",
      " 5   TotalPrice   9000 non-null   float64\n",
      " 6   Order_ID     9000 non-null   int64  \n",
      "dtypes: float64(2), int64(2), object(3)\n",
      "memory usage: 492.3+ KB\n"
     ]
    }
   ],
   "source": [
    "# lets get the info\n",
    "retail.info()"
   ]
  },
  {
   "cell_type": "code",
   "execution_count": 6,
   "id": "9fba0feb-5e01-4e62-943b-e54308474fb9",
   "metadata": {},
   "outputs": [
    {
     "data": {
      "text/html": [
       "<div>\n",
       "<style scoped>\n",
       "    .dataframe tbody tr th:only-of-type {\n",
       "        vertical-align: middle;\n",
       "    }\n",
       "\n",
       "    .dataframe tbody tr th {\n",
       "        vertical-align: top;\n",
       "    }\n",
       "\n",
       "    .dataframe thead th {\n",
       "        text-align: right;\n",
       "    }\n",
       "</style>\n",
       "<table border=\"1\" class=\"dataframe\">\n",
       "  <thead>\n",
       "    <tr style=\"text-align: right;\">\n",
       "      <th></th>\n",
       "      <th>UnitPrice</th>\n",
       "      <th>Quantity</th>\n",
       "      <th>TotalPrice</th>\n",
       "      <th>Order_ID</th>\n",
       "    </tr>\n",
       "  </thead>\n",
       "  <tbody>\n",
       "    <tr>\n",
       "      <th>count</th>\n",
       "      <td>9000.000000</td>\n",
       "      <td>9000.000000</td>\n",
       "      <td>9000.000000</td>\n",
       "      <td>9000.000000</td>\n",
       "    </tr>\n",
       "    <tr>\n",
       "      <th>mean</th>\n",
       "      <td>125.030823</td>\n",
       "      <td>6.637778</td>\n",
       "      <td>30.784208</td>\n",
       "      <td>4500.500000</td>\n",
       "    </tr>\n",
       "    <tr>\n",
       "      <th>std</th>\n",
       "      <td>381.447463</td>\n",
       "      <td>19.670989</td>\n",
       "      <td>176.311091</td>\n",
       "      <td>2598.220545</td>\n",
       "    </tr>\n",
       "    <tr>\n",
       "      <th>min</th>\n",
       "      <td>0.100000</td>\n",
       "      <td>-150.000000</td>\n",
       "      <td>-6599.978000</td>\n",
       "      <td>1.000000</td>\n",
       "    </tr>\n",
       "    <tr>\n",
       "      <th>25%</th>\n",
       "      <td>3.750000</td>\n",
       "      <td>2.000000</td>\n",
       "      <td>3.804800</td>\n",
       "      <td>2250.750000</td>\n",
       "    </tr>\n",
       "    <tr>\n",
       "      <th>50%</th>\n",
       "      <td>17.250000</td>\n",
       "      <td>3.000000</td>\n",
       "      <td>10.500000</td>\n",
       "      <td>4500.500000</td>\n",
       "    </tr>\n",
       "    <tr>\n",
       "      <th>75%</th>\n",
       "      <td>88.000000</td>\n",
       "      <td>6.000000</td>\n",
       "      <td>25.178500</td>\n",
       "      <td>6750.250000</td>\n",
       "    </tr>\n",
       "    <tr>\n",
       "      <th>max</th>\n",
       "      <td>9450.000000</td>\n",
       "      <td>800.000000</td>\n",
       "      <td>8399.976000</td>\n",
       "      <td>9000.000000</td>\n",
       "    </tr>\n",
       "  </tbody>\n",
       "</table>\n",
       "</div>"
      ],
      "text/plain": [
       "         UnitPrice     Quantity   TotalPrice     Order_ID\n",
       "count  9000.000000  9000.000000  9000.000000  9000.000000\n",
       "mean    125.030823     6.637778    30.784208  4500.500000\n",
       "std     381.447463    19.670989   176.311091  2598.220545\n",
       "min       0.100000  -150.000000 -6599.978000     1.000000\n",
       "25%       3.750000     2.000000     3.804800  2250.750000\n",
       "50%      17.250000     3.000000    10.500000  4500.500000\n",
       "75%      88.000000     6.000000    25.178500  6750.250000\n",
       "max    9450.000000   800.000000  8399.976000  9000.000000"
      ]
     },
     "execution_count": 6,
     "metadata": {},
     "output_type": "execute_result"
    }
   ],
   "source": [
    "# lets get the description of the data\n",
    "retail.describe()"
   ]
  },
  {
   "cell_type": "code",
   "execution_count": 8,
   "id": "216d6bf3-ba5a-40d9-8c50-c5647b7a91e4",
   "metadata": {},
   "outputs": [
    {
     "data": {
      "text/plain": [
       "Order_Date      object\n",
       "Customer_ID     object\n",
       "Country         object\n",
       "UnitPrice      float64\n",
       "Quantity         int64\n",
       "TotalPrice     float64\n",
       "Order_ID         int64\n",
       "dtype: object"
      ]
     },
     "execution_count": 8,
     "metadata": {},
     "output_type": "execute_result"
    }
   ],
   "source": [
    "retail.dtypes"
   ]
  },
  {
   "cell_type": "code",
   "execution_count": 9,
   "id": "0684a201-acba-4d98-8c19-99043c4f1713",
   "metadata": {},
   "outputs": [],
   "source": [
    "# lets convert order_date column object type to date type\n",
    "retail['Order_Date']=pd.to_datetime(retail['Order_Date'])"
   ]
  },
  {
   "cell_type": "code",
   "execution_count": 10,
   "id": "334e2456-15f6-4965-b492-a828e31a1699",
   "metadata": {},
   "outputs": [
    {
     "data": {
      "text/plain": [
       "Order_Date     datetime64[ns]\n",
       "Customer_ID            object\n",
       "Country                object\n",
       "UnitPrice             float64\n",
       "Quantity                int64\n",
       "TotalPrice            float64\n",
       "Order_ID                int64\n",
       "dtype: object"
      ]
     },
     "execution_count": 10,
     "metadata": {},
     "output_type": "execute_result"
    }
   ],
   "source": [
    "retail.dtypes"
   ]
  },
  {
   "cell_type": "markdown",
   "id": "f85d5900-c720-45d1-a5f8-3f2e24721da5",
   "metadata": {},
   "source": [
    "## Step 4 : Data visualization"
   ]
  },
  {
   "cell_type": "markdown",
   "id": "e561de7e-38d7-4822-b80a-2fa38478b292",
   "metadata": {},
   "source": [
    "### 1.Time series line plot: Monthly sales trend"
   ]
  },
  {
   "cell_type": "code",
   "execution_count": 11,
   "id": "ea5ee251-38d7-4d96-b44f-68073af395ba",
   "metadata": {},
   "outputs": [],
   "source": [
    "# lets analyse the monthly sales trend\n",
    "retail['Order_month']=retail['Order_Date'].dt.to_period('M')"
   ]
  },
  {
   "cell_type": "code",
   "execution_count": 21,
   "id": "a77ee0d4-e2c7-4163-8213-a6970caab83d",
   "metadata": {},
   "outputs": [],
   "source": [
    "monthly_trend=retail.groupby(retail['Order_month'])['TotalPrice'].sum().sort_values(ascending=False)[:100]"
   ]
  },
  {
   "cell_type": "code",
   "execution_count": 27,
   "id": "e377730f-707f-4caf-9632-df7df9581eaf",
   "metadata": {},
   "outputs": [
    {
     "data": {
      "text/plain": [
       "Order_month\n",
       "2009-12    66070.3500\n",
       "2019-12    17885.3093\n",
       "2019-10    16243.1425\n",
       "2019-09     9328.6576\n",
       "2019-05     8662.1464\n",
       "              ...    \n",
       "2013-04      817.4498\n",
       "2011-01      772.0226\n",
       "2012-06      692.4475\n",
       "2012-01      503.3377\n",
       "2011-02      128.6189\n",
       "Freq: M, Name: TotalPrice, Length: 64, dtype: float64"
      ]
     },
     "execution_count": 27,
     "metadata": {},
     "output_type": "execute_result"
    }
   ],
   "source": [
    "monthly_trend"
   ]
  },
  {
   "cell_type": "code",
   "execution_count": 76,
   "id": "570a9a76-2529-4cca-bb41-66b2612e6afc",
   "metadata": {},
   "outputs": [
    {
     "data": {
      "image/png": "[encoded data removed]",
      "text/plain": [
       "<Figure size 1500x900 with 1 Axes>"
      ]
     },
     "metadata": {},
     "output_type": "display_data"
    }
   ],
   "source": [
    "# lets visualize the monthly trend\n",
    "plt.figure(figsize=(15,9))\n",
    "sns.lineplot(x=monthly_trend.index.astype(str),y=monthly_trend.values)\n",
    "plt.xlabel('Month')\n",
    "plt.ylabel('TotalPrice')\n",
    "plt.title(' Monthly sales trend')\n",
    "plt.xticks(rotation=90)\n",
    "plt.savefig(\"monthly trend.png\")\n",
    "plt.show()"
   ]
  },
  {
   "cell_type": "markdown",
   "id": "28c70a49-1ad8-44fe-982a-2be302fb4e4f",
   "metadata": {},
   "source": [
    "### Insights:\n",
    "\n",
    "From the analysis, we observed a significant increase in sales starting from December 2009, with a peak reaching approximately 70,000. However, in the following months and years, there was a gradual decline in total sales.\n",
    "\n",
    "To potentially boost future sales, the following strategies could be considered:\n",
    "\n",
    "1.Offering more competitive pricing to attract price-sensitive customers.\n",
    "\n",
    "2.Increasing discounts during off-peak periods to drive volume.\n",
    "\n",
    "3.Recommending high-rated products to customers based on past preferences and reviews, leveraging recommendation systems."
   ]
  },
  {
   "cell_type": "markdown",
   "id": "009b0c27-ac98-450e-aff3-6ceefd3f4dec",
   "metadata": {},
   "source": [
    "## 2 Bar chart: Top countries by revenue"
   ]
  },
  {
   "cell_type": "code",
   "execution_count": 34,
   "id": "d86aad08-cfac-47b0-927c-bf9c95c53b05",
   "metadata": {},
   "outputs": [],
   "source": [
    "revenue_by_countries=retail.groupby('Country')['TotalPrice'].sum().sort_values(ascending=False)"
   ]
  },
  {
   "cell_type": "code",
   "execution_count": 35,
   "id": "1d173bd7-4a98-4200-b59f-42a131c992b1",
   "metadata": {},
   "outputs": [
    {
     "data": {
      "text/plain": [
       "Country\n",
       "United States     210987.5257\n",
       "United Kingdom     59827.7300\n",
       "Portugal            2454.6800\n",
       "EIRE                1800.4300\n",
       "France               995.3400\n",
       "Germany              929.9200\n",
       "USA                  141.0000\n",
       "Belgium              130.0000\n",
       "Australia              0.0000\n",
       "Japan               -208.7500\n",
       "Name: TotalPrice, dtype: float64"
      ]
     },
     "execution_count": 35,
     "metadata": {},
     "output_type": "execute_result"
    }
   ],
   "source": [
    "revenue_by_countries"
   ]
  },
  {
   "cell_type": "code",
   "execution_count": 77,
   "id": "97065d7c-e2b1-42ad-aa8e-0d247092a88b",
   "metadata": {},
   "outputs": [
    {
     "data": {
      "image/png": "[encoded data removed]",
      "text/plain": [
       "<Figure size 1500x900 with 1 Axes>"
      ]
     },
     "metadata": {},
     "output_type": "display_data"
    }
   ],
   "source": [
    "# lets visualize top trending countries in revenue\n",
    "plt.figure(figsize=(15,9))\n",
    "sns.barplot(revenue_by_countries[:5],palette='viridis')\n",
    "plt.ylabel('Revenue')\n",
    "plt.title('Top countries by revenue')\n",
    "plt.savefig(\"top trending countries in revenue.png\")\n",
    "plt.show()"
   ]
  },
  {
   "cell_type": "markdown",
   "id": "f69fa861-c4f2-4e10-8505-cb9dfc2de2e3",
   "metadata": {},
   "source": [
    "### Insights:\n",
    "\n",
    "From the analysis, the United States emerges as the top country in terms of revenue, indicating a strong customer base and purchasing power. In contrast, France ranks at the bottom among the selected countries, reflecting lower overall sales performance.\n",
    "\n"
   ]
  },
  {
   "cell_type": "markdown",
   "id": "41d3199f-2798-4f80-978e-d4f079d39c07",
   "metadata": {},
   "source": [
    "## 3 Pie chart: Contribution of top 5 customers"
   ]
  },
  {
   "cell_type": "code",
   "execution_count": 47,
   "id": "ee39cfde-c035-4e13-ad1c-92cd0ed1f029",
   "metadata": {},
   "outputs": [],
   "source": [
    "# lets analyse the contribution by number of orders\n",
    "contributors=retail.groupby('Customer_ID')['Order_ID'].count().sort_values(ascending=False)[:5]"
   ]
  },
  {
   "cell_type": "code",
   "execution_count": 48,
   "id": "0d52a101-4299-4f2d-8943-350a92ba4cd1",
   "metadata": {},
   "outputs": [
    {
     "data": {
      "text/plain": [
       "Customer_ID\n",
       "16393.0    130\n",
       "15998.0    104\n",
       "17611.0     83\n",
       "12758.0     79\n",
       "15542.0     74\n",
       "Name: Order_ID, dtype: int64"
      ]
     },
     "execution_count": 48,
     "metadata": {},
     "output_type": "execute_result"
    }
   ],
   "source": [
    "contributors"
   ]
  },
  {
   "cell_type": "code",
   "execution_count": 80,
   "id": "ffabe1c1-ecff-4e3e-9727-04dbb8b794f2",
   "metadata": {},
   "outputs": [
    {
     "data": {
      "image/png": "[encoded data removed]",
      "text/plain": [
       "<Figure size 640x480 with 1 Axes>"
      ]
     },
     "metadata": {},
     "output_type": "display_data"
    }
   ],
   "source": [
    "contributors.plot(kind='pie',autopct='%d%%',colormap='Pastel1')\n",
    "plt.title('Contribution of top 5 customers')\n",
    "plt.savefig('top5_customers.png')"
   ]
  },
  {
   "cell_type": "markdown",
   "id": "24733190-fd55-4b32-8fee-ef7096f19ba5",
   "metadata": {},
   "source": [
    "## Insights:\n",
    "From the analysis, the contribution of the top 5 customers to total orders is visualized above.\n",
    "Customer ID 16393 contributed the most, accounting for 27% of the total orders, while Customer ID 15542 had the lowest contribution at 15%."
   ]
  },
  {
   "cell_type": "markdown",
   "id": "c71179bc-d310-426f-9ae2-d5b75aa46b17",
   "metadata": {},
   "source": [
    "## 4 Heatmap: Sales by month and country"
   ]
  },
  {
   "cell_type": "code",
   "execution_count": 63,
   "id": "8a0260f9-b408-427a-abc8-22c0327243c5",
   "metadata": {},
   "outputs": [],
   "source": [
    "# lets extract month from the orderdate\n",
    "retail['month']=retail['Order_Date'].dt.month"
   ]
  },
  {
   "cell_type": "code",
   "execution_count": 70,
   "id": "dd7a54f6-e503-4f47-8c35-13f6b0fe7291",
   "metadata": {},
   "outputs": [],
   "source": [
    "monthly_sales_by_country=retail.groupby(['month','Country'])['TotalPrice'].sum().unstack().fillna(0)"
   ]
  },
  {
   "cell_type": "code",
   "execution_count": 71,
   "id": "05aa08a0-0e82-41f2-b24b-c998af212ec3",
   "metadata": {},
   "outputs": [
    {
     "data": {
      "text/html": [
       "<div>\n",
       "<style scoped>\n",
       "    .dataframe tbody tr th:only-of-type {\n",
       "        vertical-align: middle;\n",
       "    }\n",
       "\n",
       "    .dataframe tbody tr th {\n",
       "        vertical-align: top;\n",
       "    }\n",
       "\n",
       "    .dataframe thead th {\n",
       "        text-align: right;\n",
       "    }\n",
       "</style>\n",
       "<table border=\"1\" class=\"dataframe\">\n",
       "  <thead>\n",
       "    <tr style=\"text-align: right;\">\n",
       "      <th>Country</th>\n",
       "      <th>Australia</th>\n",
       "      <th>Belgium</th>\n",
       "      <th>EIRE</th>\n",
       "      <th>France</th>\n",
       "      <th>Germany</th>\n",
       "      <th>Japan</th>\n",
       "      <th>Portugal</th>\n",
       "      <th>USA</th>\n",
       "      <th>United Kingdom</th>\n",
       "      <th>United States</th>\n",
       "    </tr>\n",
       "    <tr>\n",
       "      <th>month</th>\n",
       "      <th></th>\n",
       "      <th></th>\n",
       "      <th></th>\n",
       "      <th></th>\n",
       "      <th></th>\n",
       "      <th></th>\n",
       "      <th></th>\n",
       "      <th></th>\n",
       "      <th></th>\n",
       "      <th></th>\n",
       "    </tr>\n",
       "  </thead>\n",
       "  <tbody>\n",
       "    <tr>\n",
       "      <th>1</th>\n",
       "      <td>0.0</td>\n",
       "      <td>0.0</td>\n",
       "      <td>0.00</td>\n",
       "      <td>0.00</td>\n",
       "      <td>0.00</td>\n",
       "      <td>0.00</td>\n",
       "      <td>0.00</td>\n",
       "      <td>0.0</td>\n",
       "      <td>0.00</td>\n",
       "      <td>13760.7248</td>\n",
       "    </tr>\n",
       "    <tr>\n",
       "      <th>2</th>\n",
       "      <td>0.0</td>\n",
       "      <td>0.0</td>\n",
       "      <td>0.00</td>\n",
       "      <td>0.00</td>\n",
       "      <td>0.00</td>\n",
       "      <td>0.00</td>\n",
       "      <td>0.00</td>\n",
       "      <td>0.0</td>\n",
       "      <td>0.00</td>\n",
       "      <td>11427.9293</td>\n",
       "    </tr>\n",
       "    <tr>\n",
       "      <th>3</th>\n",
       "      <td>0.0</td>\n",
       "      <td>0.0</td>\n",
       "      <td>0.00</td>\n",
       "      <td>0.00</td>\n",
       "      <td>0.00</td>\n",
       "      <td>0.00</td>\n",
       "      <td>0.00</td>\n",
       "      <td>0.0</td>\n",
       "      <td>0.00</td>\n",
       "      <td>18152.7849</td>\n",
       "    </tr>\n",
       "    <tr>\n",
       "      <th>4</th>\n",
       "      <td>0.0</td>\n",
       "      <td>0.0</td>\n",
       "      <td>0.00</td>\n",
       "      <td>0.00</td>\n",
       "      <td>0.00</td>\n",
       "      <td>0.00</td>\n",
       "      <td>0.00</td>\n",
       "      <td>0.0</td>\n",
       "      <td>0.00</td>\n",
       "      <td>9297.1384</td>\n",
       "    </tr>\n",
       "    <tr>\n",
       "      <th>5</th>\n",
       "      <td>0.0</td>\n",
       "      <td>0.0</td>\n",
       "      <td>0.00</td>\n",
       "      <td>0.00</td>\n",
       "      <td>0.00</td>\n",
       "      <td>0.00</td>\n",
       "      <td>0.00</td>\n",
       "      <td>0.0</td>\n",
       "      <td>0.00</td>\n",
       "      <td>17305.3735</td>\n",
       "    </tr>\n",
       "    <tr>\n",
       "      <th>6</th>\n",
       "      <td>0.0</td>\n",
       "      <td>0.0</td>\n",
       "      <td>0.00</td>\n",
       "      <td>0.00</td>\n",
       "      <td>0.00</td>\n",
       "      <td>0.00</td>\n",
       "      <td>0.00</td>\n",
       "      <td>0.0</td>\n",
       "      <td>0.00</td>\n",
       "      <td>11454.1594</td>\n",
       "    </tr>\n",
       "    <tr>\n",
       "      <th>7</th>\n",
       "      <td>0.0</td>\n",
       "      <td>0.0</td>\n",
       "      <td>0.00</td>\n",
       "      <td>0.00</td>\n",
       "      <td>0.00</td>\n",
       "      <td>0.00</td>\n",
       "      <td>0.00</td>\n",
       "      <td>0.0</td>\n",
       "      <td>0.00</td>\n",
       "      <td>10804.1878</td>\n",
       "    </tr>\n",
       "    <tr>\n",
       "      <th>8</th>\n",
       "      <td>0.0</td>\n",
       "      <td>0.0</td>\n",
       "      <td>0.00</td>\n",
       "      <td>0.00</td>\n",
       "      <td>0.00</td>\n",
       "      <td>0.00</td>\n",
       "      <td>0.00</td>\n",
       "      <td>0.0</td>\n",
       "      <td>0.00</td>\n",
       "      <td>11623.1466</td>\n",
       "    </tr>\n",
       "    <tr>\n",
       "      <th>9</th>\n",
       "      <td>0.0</td>\n",
       "      <td>0.0</td>\n",
       "      <td>0.00</td>\n",
       "      <td>0.00</td>\n",
       "      <td>0.00</td>\n",
       "      <td>0.00</td>\n",
       "      <td>0.00</td>\n",
       "      <td>0.0</td>\n",
       "      <td>0.00</td>\n",
       "      <td>28746.0543</td>\n",
       "    </tr>\n",
       "    <tr>\n",
       "      <th>10</th>\n",
       "      <td>0.0</td>\n",
       "      <td>0.0</td>\n",
       "      <td>0.00</td>\n",
       "      <td>0.00</td>\n",
       "      <td>0.00</td>\n",
       "      <td>0.00</td>\n",
       "      <td>0.00</td>\n",
       "      <td>0.0</td>\n",
       "      <td>0.00</td>\n",
       "      <td>24498.8489</td>\n",
       "    </tr>\n",
       "    <tr>\n",
       "      <th>11</th>\n",
       "      <td>0.0</td>\n",
       "      <td>0.0</td>\n",
       "      <td>0.00</td>\n",
       "      <td>0.00</td>\n",
       "      <td>0.00</td>\n",
       "      <td>0.00</td>\n",
       "      <td>0.00</td>\n",
       "      <td>0.0</td>\n",
       "      <td>0.00</td>\n",
       "      <td>19677.3686</td>\n",
       "    </tr>\n",
       "    <tr>\n",
       "      <th>12</th>\n",
       "      <td>0.0</td>\n",
       "      <td>130.0</td>\n",
       "      <td>1800.43</td>\n",
       "      <td>995.34</td>\n",
       "      <td>929.92</td>\n",
       "      <td>-208.75</td>\n",
       "      <td>2454.68</td>\n",
       "      <td>141.0</td>\n",
       "      <td>59827.73</td>\n",
       "      <td>34239.8092</td>\n",
       "    </tr>\n",
       "  </tbody>\n",
       "</table>\n",
       "</div>"
      ],
      "text/plain": [
       "Country  Australia  Belgium     EIRE  France  Germany   Japan  Portugal  \\\n",
       "month                                                                     \n",
       "1              0.0      0.0     0.00    0.00     0.00    0.00      0.00   \n",
       "2              0.0      0.0     0.00    0.00     0.00    0.00      0.00   \n",
       "3              0.0      0.0     0.00    0.00     0.00    0.00      0.00   \n",
       "4              0.0      0.0     0.00    0.00     0.00    0.00      0.00   \n",
       "5              0.0      0.0     0.00    0.00     0.00    0.00      0.00   \n",
       "6              0.0      0.0     0.00    0.00     0.00    0.00      0.00   \n",
       "7              0.0      0.0     0.00    0.00     0.00    0.00      0.00   \n",
       "8              0.0      0.0     0.00    0.00     0.00    0.00      0.00   \n",
       "9              0.0      0.0     0.00    0.00     0.00    0.00      0.00   \n",
       "10             0.0      0.0     0.00    0.00     0.00    0.00      0.00   \n",
       "11             0.0      0.0     0.00    0.00     0.00    0.00      0.00   \n",
       "12             0.0    130.0  1800.43  995.34   929.92 -208.75   2454.68   \n",
       "\n",
       "Country    USA  United Kingdom  United States  \n",
       "month                                          \n",
       "1          0.0            0.00     13760.7248  \n",
       "2          0.0            0.00     11427.9293  \n",
       "3          0.0            0.00     18152.7849  \n",
       "4          0.0            0.00      9297.1384  \n",
       "5          0.0            0.00     17305.3735  \n",
       "6          0.0            0.00     11454.1594  \n",
       "7          0.0            0.00     10804.1878  \n",
       "8          0.0            0.00     11623.1466  \n",
       "9          0.0            0.00     28746.0543  \n",
       "10         0.0            0.00     24498.8489  \n",
       "11         0.0            0.00     19677.3686  \n",
       "12       141.0        59827.73     34239.8092  "
      ]
     },
     "execution_count": 71,
     "metadata": {},
     "output_type": "execute_result"
    }
   ],
   "source": [
    "monthly_sales_by_country"
   ]
  },
  {
   "cell_type": "code",
   "execution_count": 79,
   "id": "33cc1566-6a55-4140-97e3-5095b35f858e",
   "metadata": {},
   "outputs": [
    {
     "data": {
      "image/png": "[encoded data removed]",
      "text/plain": [
       "<Figure size 1500x900 with 2 Axes>"
      ]
     },
     "metadata": {},
     "output_type": "display_data"
    }
   ],
   "source": [
    "# lets visualize the data by using heatmap\n",
    "plt.figure(figsize=(15,9))\n",
    "sns.heatmap(monthly_sales_by_country, cmap='YlGnBu')\n",
    "plt.title('Sales by Month and Country')\n",
    "plt.xlabel('Country')\n",
    "plt.ylabel('Month')\n",
    "plt.savefig('Sales by Month and Country.png')\n",
    "plt.show()"
   ]
  },
  {
   "cell_type": "markdown",
   "id": "e5b21287-27cd-4193-b985-6a5e3658193c",
   "metadata": {},
   "source": [
    "## Insights\n",
    "\n",
    "From the above analysis, the United States consistently contributed the highest sales across every month.\n",
    "However, in December, the United Kingdom experienced a significant spike in sales, contributing the highest sales for that month.\n",
    "The remaining countries lagged behind in comparison.\n",
    "\n"
   ]
  },
  {
   "cell_type": "code",
   "execution_count": null,
   "id": "560f7ffa-3acb-4459-b089-b02b392f4813",
   "metadata": {},
   "outputs": [],
   "source": []
  },
  {
   "cell_type": "markdown",
   "id": "e6790ddc-66e7-40e6-9012-881558119eec",
   "metadata": {},
   "source": [
    "##  Conclusion:\n",
    "1 **Sales Trends:**\n",
    "We observed a significant increase in sales starting from December 2009, peaking at approximately 70,000. However, this growth was followed by a gradual decline in the following months and years. To boost future sales, strategic actions such as price reductions, offering more discounts, or promoting high-rated products could be beneficial.\n",
    "\n",
    "2 **Top Contributing Countries:**\n",
    "The United States consistently ranked as the top contributor to sales across all months. In contrast, France showed the lowest sales revenue. In December, the United Kingdom saw a spike, emerging as the highest contributor for that month.\n",
    "\n",
    "3 **Top Customers:**\n",
    "The top 5 customers made notable contributions to the overall sales. Customer ID 16393 was the highest contributor, accounting for 27% of the total orders, while Customer ID 15542 had the smallest contribution at 15%. This insight could help target top customers with personalized offers or loyalty programs.\n",
    "\n",
    "4 **Monthly and Country-wise Sales Distribution:**\n",
    "The United States led in sales every month, while the United Kingdom dominated in December. Other countries followed at a distance. Identifying seasonal trends and focusing marketing efforts on high-performing countries during peak months could maximize revenue.\n",
    "\n"
   ]
  },
  {
   "cell_type": "code",
   "execution_count": null,
   "id": "04625891-ca91-45ff-8553-cb4ccb9fe7a7",
   "metadata": {},
   "outputs": [],
   "source": []
  },
  {
   "cell_type": "code",
   "execution_count": null,
   "id": "3937a935-31eb-4d85-b8eb-fd1f547b5406",
   "metadata": {},
   "outputs": [],
   "source": []
  },
  {
   "cell_type": "code",
   "execution_count": null,
   "id": "8bd0c637-e34f-457f-9667-bbaa8fe707bd",
   "metadata": {},
   "outputs": [],
   "source": []
  },
  {
   "cell_type": "code",
   "execution_count": null,
   "id": "03c42fc0-4141-4985-9faf-8991a6961741",
   "metadata": {},
   "outputs": [],
   "source": []
  },
  {
   "cell_type": "code",
   "execution_count": null,
   "id": "aa4fe6a7-797d-49a7-9f0d-9e676c579cc1",
   "metadata": {},
   "outputs": [],
   "source": []
  }
 ],
 "metadata": {
  "kernelspec": {
   "display_name": "Python 3 (ipykernel)",
   "language": "python",
   "name": "python3"
  },
  "language_info": {
   "codemirror_mode": {
    "name": "ipython",
    "version": 3
   },
   "file_extension": ".py",
   "mimetype": "text/x-python",
   "name": "python",
   "nbconvert_exporter": "python",
   "pygments_lexer": "ipython3",
   "version": "3.11.5"
  }
 },
 "nbformat": 4,
 "nbformat_minor": 5
}
